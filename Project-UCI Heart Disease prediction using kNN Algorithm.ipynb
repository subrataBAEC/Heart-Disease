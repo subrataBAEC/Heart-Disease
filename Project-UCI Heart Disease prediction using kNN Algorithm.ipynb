{
 "cells": [
  {
   "cell_type": "markdown",
   "id": "dc088815",
   "metadata": {},
   "source": [
    "#  Heart Disease Prediction Using KNN Algorithm"
   ]
  },
  {
   "cell_type": "markdown",
   "id": "b744f60e",
   "metadata": {},
   "source": [
    "- Data pre process\n",
    "- Training model using KNN algorithm\n",
    "- confusion matrix,Classification report,ROC AUC\n",
    "- Hyperparameter Tuning using GridsearchCV\n",
    "- Comparison of accuracy\n",
    "- Data set source: https://archive.ics.uci.edu/ml/datasets/heart+disease"
   ]
  },
  {
   "cell_type": "markdown",
   "id": "367cd276",
   "metadata": {},
   "source": [
    "### Import"
   ]
  },
  {
   "cell_type": "code",
   "execution_count": 1,
   "id": "57198f80",
   "metadata": {},
   "outputs": [],
   "source": [
    "import numpy as np\n",
    "import pandas as pd\n",
    "import matplotlib.pyplot as plt\n",
    "from sklearn.model_selection import train_test_split\n",
    "from sklearn.neighbors import KNeighborsClassifier\n",
    "# from sklearn import tree\n",
    "# from sklearn.tree import plot_tree\n",
    "from sklearn.model_selection import cross_val_score\n",
    "from sklearn.metrics import confusion_matrix\n",
    "from sklearn.metrics import plot_confusion_matrix\n",
    "from sklearn.metrics import accuracy_score, classification_report, confusion_matrix\n",
    "from sklearn.metrics import roc_curve, roc_auc_score, precision_score, recall_score, f1_score\n",
    "from sklearn.metrics import plot_confusion_matrix\n",
    "from sklearn.metrics import classification_report, accuracy_score,confusion_matrix,roc_curve,plot_roc_curve\n",
    "\n",
    "from sklearn.model_selection import GridSearchCV"
   ]
  },
  {
   "cell_type": "markdown",
   "id": "8ff28fdd",
   "metadata": {},
   "source": [
    "**source:** UCI repository https://archive.ics.uci.edu/ml/datasets/heart+disease"
   ]
  },
  {
   "cell_type": "markdown",
   "id": "3d651f33",
   "metadata": {},
   "source": [
    "### Data read"
   ]
  },
  {
   "cell_type": "code",
   "execution_count": 2,
   "id": "486cfcb5",
   "metadata": {
    "scrolled": true
   },
   "outputs": [],
   "source": [
    "# df=pd.read_csv('heart disease.csv',header=None) #header none is required\n",
    "# display(df.head()) \n",
    "# df.shape"
   ]
  },
  {
   "cell_type": "code",
   "execution_count": 3,
   "id": "84f93b7c",
   "metadata": {},
   "outputs": [
    {
     "data": {
      "text/html": [
       "<div>\n",
       "<style scoped>\n",
       "    .dataframe tbody tr th:only-of-type {\n",
       "        vertical-align: middle;\n",
       "    }\n",
       "\n",
       "    .dataframe tbody tr th {\n",
       "        vertical-align: top;\n",
       "    }\n",
       "\n",
       "    .dataframe thead th {\n",
       "        text-align: right;\n",
       "    }\n",
       "</style>\n",
       "<table border=\"1\" class=\"dataframe\">\n",
       "  <thead>\n",
       "    <tr style=\"text-align: right;\">\n",
       "      <th></th>\n",
       "      <th>0</th>\n",
       "      <th>1</th>\n",
       "      <th>2</th>\n",
       "      <th>3</th>\n",
       "      <th>4</th>\n",
       "      <th>5</th>\n",
       "      <th>6</th>\n",
       "      <th>7</th>\n",
       "      <th>8</th>\n",
       "      <th>9</th>\n",
       "      <th>10</th>\n",
       "      <th>11</th>\n",
       "      <th>12</th>\n",
       "      <th>13</th>\n",
       "    </tr>\n",
       "  </thead>\n",
       "  <tbody>\n",
       "    <tr>\n",
       "      <th>0</th>\n",
       "      <td>63.0</td>\n",
       "      <td>1.0</td>\n",
       "      <td>1.0</td>\n",
       "      <td>145.0</td>\n",
       "      <td>233.0</td>\n",
       "      <td>1.0</td>\n",
       "      <td>2.0</td>\n",
       "      <td>150.0</td>\n",
       "      <td>0.0</td>\n",
       "      <td>2.3</td>\n",
       "      <td>3.0</td>\n",
       "      <td>0.0</td>\n",
       "      <td>6.0</td>\n",
       "      <td>0</td>\n",
       "    </tr>\n",
       "    <tr>\n",
       "      <th>1</th>\n",
       "      <td>67.0</td>\n",
       "      <td>1.0</td>\n",
       "      <td>4.0</td>\n",
       "      <td>160.0</td>\n",
       "      <td>286.0</td>\n",
       "      <td>0.0</td>\n",
       "      <td>2.0</td>\n",
       "      <td>108.0</td>\n",
       "      <td>1.0</td>\n",
       "      <td>1.5</td>\n",
       "      <td>2.0</td>\n",
       "      <td>3.0</td>\n",
       "      <td>3.0</td>\n",
       "      <td>2</td>\n",
       "    </tr>\n",
       "    <tr>\n",
       "      <th>2</th>\n",
       "      <td>67.0</td>\n",
       "      <td>1.0</td>\n",
       "      <td>4.0</td>\n",
       "      <td>120.0</td>\n",
       "      <td>229.0</td>\n",
       "      <td>0.0</td>\n",
       "      <td>2.0</td>\n",
       "      <td>129.0</td>\n",
       "      <td>1.0</td>\n",
       "      <td>2.6</td>\n",
       "      <td>2.0</td>\n",
       "      <td>2.0</td>\n",
       "      <td>7.0</td>\n",
       "      <td>1</td>\n",
       "    </tr>\n",
       "    <tr>\n",
       "      <th>3</th>\n",
       "      <td>37.0</td>\n",
       "      <td>1.0</td>\n",
       "      <td>3.0</td>\n",
       "      <td>130.0</td>\n",
       "      <td>250.0</td>\n",
       "      <td>0.0</td>\n",
       "      <td>0.0</td>\n",
       "      <td>187.0</td>\n",
       "      <td>0.0</td>\n",
       "      <td>3.5</td>\n",
       "      <td>3.0</td>\n",
       "      <td>0.0</td>\n",
       "      <td>3.0</td>\n",
       "      <td>0</td>\n",
       "    </tr>\n",
       "    <tr>\n",
       "      <th>4</th>\n",
       "      <td>41.0</td>\n",
       "      <td>0.0</td>\n",
       "      <td>2.0</td>\n",
       "      <td>130.0</td>\n",
       "      <td>204.0</td>\n",
       "      <td>0.0</td>\n",
       "      <td>2.0</td>\n",
       "      <td>172.0</td>\n",
       "      <td>0.0</td>\n",
       "      <td>1.4</td>\n",
       "      <td>1.0</td>\n",
       "      <td>0.0</td>\n",
       "      <td>3.0</td>\n",
       "      <td>0</td>\n",
       "    </tr>\n",
       "  </tbody>\n",
       "</table>\n",
       "</div>"
      ],
      "text/plain": [
       "     0    1    2      3      4    5    6      7    8    9    10   11   12  13\n",
       "0  63.0  1.0  1.0  145.0  233.0  1.0  2.0  150.0  0.0  2.3  3.0  0.0  6.0   0\n",
       "1  67.0  1.0  4.0  160.0  286.0  0.0  2.0  108.0  1.0  1.5  2.0  3.0  3.0   2\n",
       "2  67.0  1.0  4.0  120.0  229.0  0.0  2.0  129.0  1.0  2.6  2.0  2.0  7.0   1\n",
       "3  37.0  1.0  3.0  130.0  250.0  0.0  0.0  187.0  0.0  3.5  3.0  0.0  3.0   0\n",
       "4  41.0  0.0  2.0  130.0  204.0  0.0  2.0  172.0  0.0  1.4  1.0  0.0  3.0   0"
      ]
     },
     "metadata": {},
     "output_type": "display_data"
    },
    {
     "data": {
      "text/plain": [
       "(303, 14)"
      ]
     },
     "execution_count": 3,
     "metadata": {},
     "output_type": "execute_result"
    }
   ],
   "source": [
    "df=pd.read_csv('processed.cleveland.data',header=None) #header none is required\n",
    "display(df.head()) \n",
    "df.shape"
   ]
  },
  {
   "cell_type": "markdown",
   "id": "ab74449b",
   "metadata": {},
   "source": [
    "### Add column names"
   ]
  },
  {
   "cell_type": "code",
   "execution_count": 4,
   "id": "2f455582",
   "metadata": {},
   "outputs": [
    {
     "data": {
      "text/html": [
       "<div>\n",
       "<style scoped>\n",
       "    .dataframe tbody tr th:only-of-type {\n",
       "        vertical-align: middle;\n",
       "    }\n",
       "\n",
       "    .dataframe tbody tr th {\n",
       "        vertical-align: top;\n",
       "    }\n",
       "\n",
       "    .dataframe thead th {\n",
       "        text-align: right;\n",
       "    }\n",
       "</style>\n",
       "<table border=\"1\" class=\"dataframe\">\n",
       "  <thead>\n",
       "    <tr style=\"text-align: right;\">\n",
       "      <th></th>\n",
       "      <th>age</th>\n",
       "      <th>sex</th>\n",
       "      <th>cp</th>\n",
       "      <th>restbps</th>\n",
       "      <th>chol</th>\n",
       "      <th>fbs</th>\n",
       "      <th>restecg</th>\n",
       "      <th>thalach</th>\n",
       "      <th>exang</th>\n",
       "      <th>oldpeak</th>\n",
       "      <th>slope</th>\n",
       "      <th>ca</th>\n",
       "      <th>thal</th>\n",
       "      <th>hd</th>\n",
       "    </tr>\n",
       "  </thead>\n",
       "  <tbody>\n",
       "    <tr>\n",
       "      <th>0</th>\n",
       "      <td>63.0</td>\n",
       "      <td>1.0</td>\n",
       "      <td>1.0</td>\n",
       "      <td>145.0</td>\n",
       "      <td>233.0</td>\n",
       "      <td>1.0</td>\n",
       "      <td>2.0</td>\n",
       "      <td>150.0</td>\n",
       "      <td>0.0</td>\n",
       "      <td>2.3</td>\n",
       "      <td>3.0</td>\n",
       "      <td>0.0</td>\n",
       "      <td>6.0</td>\n",
       "      <td>0</td>\n",
       "    </tr>\n",
       "    <tr>\n",
       "      <th>1</th>\n",
       "      <td>67.0</td>\n",
       "      <td>1.0</td>\n",
       "      <td>4.0</td>\n",
       "      <td>160.0</td>\n",
       "      <td>286.0</td>\n",
       "      <td>0.0</td>\n",
       "      <td>2.0</td>\n",
       "      <td>108.0</td>\n",
       "      <td>1.0</td>\n",
       "      <td>1.5</td>\n",
       "      <td>2.0</td>\n",
       "      <td>3.0</td>\n",
       "      <td>3.0</td>\n",
       "      <td>2</td>\n",
       "    </tr>\n",
       "    <tr>\n",
       "      <th>2</th>\n",
       "      <td>67.0</td>\n",
       "      <td>1.0</td>\n",
       "      <td>4.0</td>\n",
       "      <td>120.0</td>\n",
       "      <td>229.0</td>\n",
       "      <td>0.0</td>\n",
       "      <td>2.0</td>\n",
       "      <td>129.0</td>\n",
       "      <td>1.0</td>\n",
       "      <td>2.6</td>\n",
       "      <td>2.0</td>\n",
       "      <td>2.0</td>\n",
       "      <td>7.0</td>\n",
       "      <td>1</td>\n",
       "    </tr>\n",
       "    <tr>\n",
       "      <th>3</th>\n",
       "      <td>37.0</td>\n",
       "      <td>1.0</td>\n",
       "      <td>3.0</td>\n",
       "      <td>130.0</td>\n",
       "      <td>250.0</td>\n",
       "      <td>0.0</td>\n",
       "      <td>0.0</td>\n",
       "      <td>187.0</td>\n",
       "      <td>0.0</td>\n",
       "      <td>3.5</td>\n",
       "      <td>3.0</td>\n",
       "      <td>0.0</td>\n",
       "      <td>3.0</td>\n",
       "      <td>0</td>\n",
       "    </tr>\n",
       "    <tr>\n",
       "      <th>4</th>\n",
       "      <td>41.0</td>\n",
       "      <td>0.0</td>\n",
       "      <td>2.0</td>\n",
       "      <td>130.0</td>\n",
       "      <td>204.0</td>\n",
       "      <td>0.0</td>\n",
       "      <td>2.0</td>\n",
       "      <td>172.0</td>\n",
       "      <td>0.0</td>\n",
       "      <td>1.4</td>\n",
       "      <td>1.0</td>\n",
       "      <td>0.0</td>\n",
       "      <td>3.0</td>\n",
       "      <td>0</td>\n",
       "    </tr>\n",
       "  </tbody>\n",
       "</table>\n",
       "</div>"
      ],
      "text/plain": [
       "    age  sex   cp  restbps   chol  fbs  restecg  thalach  exang  oldpeak  \\\n",
       "0  63.0  1.0  1.0    145.0  233.0  1.0      2.0    150.0    0.0      2.3   \n",
       "1  67.0  1.0  4.0    160.0  286.0  0.0      2.0    108.0    1.0      1.5   \n",
       "2  67.0  1.0  4.0    120.0  229.0  0.0      2.0    129.0    1.0      2.6   \n",
       "3  37.0  1.0  3.0    130.0  250.0  0.0      0.0    187.0    0.0      3.5   \n",
       "4  41.0  0.0  2.0    130.0  204.0  0.0      2.0    172.0    0.0      1.4   \n",
       "\n",
       "   slope   ca thal  hd  \n",
       "0    3.0  0.0  6.0   0  \n",
       "1    2.0  3.0  3.0   2  \n",
       "2    2.0  2.0  7.0   1  \n",
       "3    3.0  0.0  3.0   0  \n",
       "4    1.0  0.0  3.0   0  "
      ]
     },
     "execution_count": 4,
     "metadata": {},
     "output_type": "execute_result"
    }
   ],
   "source": [
    "df.columns=['age','sex','cp','restbps','chol','fbs','restecg','thalach','exang','oldpeak','slope','ca','thal','hd']\n",
    "df.head()"
   ]
  },
  {
   "cell_type": "markdown",
   "id": "030e1c1f",
   "metadata": {},
   "source": [
    "**Explanation:** Here, hd means heart disease,our target feature."
   ]
  },
  {
   "cell_type": "markdown",
   "id": "52272884",
   "metadata": {},
   "source": [
    "#### Target Variable: hd"
   ]
  },
  {
   "cell_type": "code",
   "execution_count": 5,
   "id": "5337171d",
   "metadata": {},
   "outputs": [
    {
     "name": "stdout",
     "output_type": "stream",
     "text": [
      "0    164\n",
      "1     55\n",
      "2     36\n",
      "3     35\n",
      "4     13\n",
      "Name: hd, dtype: int64\n"
     ]
    }
   ],
   "source": [
    "print(df['hd'].value_counts())  "
   ]
  },
  {
   "cell_type": "code",
   "execution_count": 6,
   "id": "95ccfd52",
   "metadata": {},
   "outputs": [
    {
     "name": "stdout",
     "output_type": "stream",
     "text": [
      "0    164\n",
      "1    139\n",
      "Name: hd, dtype: int64\n"
     ]
    }
   ],
   "source": [
    "df[df['hd'] > 1] = 1\n",
    "\n",
    "print(df['hd'].value_counts())"
   ]
  },
  {
   "cell_type": "markdown",
   "id": "7d0c47b9",
   "metadata": {},
   "source": [
    "**Explanation:** \n",
    "- Here 0 is no heart disease, 1,2,3,4 are different types of heart diseases.\n",
    "- for classification, these 4 values need to be converted to 2 values,<b>0 means no diease</b>,<b>1 means heart disease</b>(any type among 1,2,3,4).\n",
    "- At last we have 164 patients with no Heart disease and 139 patients with Heart disease."
   ]
  },
  {
   "cell_type": "code",
   "execution_count": 7,
   "id": "8bd25e9e",
   "metadata": {},
   "outputs": [
    {
     "name": "stdout",
     "output_type": "stream",
     "text": [
      "<class 'pandas.core.frame.DataFrame'>\n",
      "RangeIndex: 303 entries, 0 to 302\n",
      "Data columns (total 14 columns):\n",
      " #   Column   Non-Null Count  Dtype  \n",
      "---  ------   --------------  -----  \n",
      " 0   age      303 non-null    float64\n",
      " 1   sex      303 non-null    float64\n",
      " 2   cp       303 non-null    float64\n",
      " 3   restbps  303 non-null    float64\n",
      " 4   chol     303 non-null    float64\n",
      " 5   fbs      303 non-null    float64\n",
      " 6   restecg  303 non-null    float64\n",
      " 7   thalach  303 non-null    float64\n",
      " 8   exang    303 non-null    float64\n",
      " 9   oldpeak  303 non-null    float64\n",
      " 10  slope    303 non-null    float64\n",
      " 11  ca       303 non-null    object \n",
      " 12  thal     303 non-null    object \n",
      " 13  hd       303 non-null    int64  \n",
      "dtypes: float64(11), int64(1), object(2)\n",
      "memory usage: 33.3+ KB\n"
     ]
    }
   ],
   "source": [
    "#print(df.dtypes)\n",
    "df.info()"
   ]
  },
  {
   "cell_type": "markdown",
   "id": "64841d21",
   "metadata": {},
   "source": [
    "**Explanation:** As **'ca'** and **'thal'**  are object type, they need to be checked for unique values whethere they have any non-numeric value"
   ]
  },
  {
   "cell_type": "markdown",
   "id": "1b9dcd2d",
   "metadata": {},
   "source": [
    "### Unique values check"
   ]
  },
  {
   "cell_type": "code",
   "execution_count": 8,
   "id": "3deac1e0",
   "metadata": {},
   "outputs": [],
   "source": [
    "#df.isnull().sum()"
   ]
  },
  {
   "cell_type": "code",
   "execution_count": 9,
   "id": "ed59a3c0",
   "metadata": {},
   "outputs": [
    {
     "name": "stdout",
     "output_type": "stream",
     "text": [
      "['0.0' 1 '2.0' '1.0' '3.0' '?']\n",
      "['6.0' 1 '7.0' '3.0' '?']\n"
     ]
    }
   ],
   "source": [
    "print(df['ca'].unique())\n",
    "print(df['thal'].unique())"
   ]
  },
  {
   "cell_type": "markdown",
   "id": "2793a4a9",
   "metadata": {},
   "source": [
    "**Explanation:** Mixture of numeric and text data, these rows need to be removed"
   ]
  },
  {
   "cell_type": "markdown",
   "id": "52b7bd9d",
   "metadata": {},
   "source": [
    "### Unique values check for Each Column"
   ]
  },
  {
   "cell_type": "code",
   "execution_count": 10,
   "id": "49703598",
   "metadata": {},
   "outputs": [],
   "source": [
    "# # check unique values in each column\n",
    "# for column in df:\n",
    "#     print(df[column].unique())    "
   ]
  },
  {
   "cell_type": "markdown",
   "id": "b223d201",
   "metadata": {},
   "source": [
    "### Find rows with null values"
   ]
  },
  {
   "cell_type": "code",
   "execution_count": 11,
   "id": "baa963d8",
   "metadata": {},
   "outputs": [
    {
     "data": {
      "text/html": [
       "<div>\n",
       "<style scoped>\n",
       "    .dataframe tbody tr th:only-of-type {\n",
       "        vertical-align: middle;\n",
       "    }\n",
       "\n",
       "    .dataframe tbody tr th {\n",
       "        vertical-align: top;\n",
       "    }\n",
       "\n",
       "    .dataframe thead th {\n",
       "        text-align: right;\n",
       "    }\n",
       "</style>\n",
       "<table border=\"1\" class=\"dataframe\">\n",
       "  <thead>\n",
       "    <tr style=\"text-align: right;\">\n",
       "      <th></th>\n",
       "      <th>age</th>\n",
       "      <th>sex</th>\n",
       "      <th>cp</th>\n",
       "      <th>restbps</th>\n",
       "      <th>chol</th>\n",
       "      <th>fbs</th>\n",
       "      <th>restecg</th>\n",
       "      <th>thalach</th>\n",
       "      <th>exang</th>\n",
       "      <th>oldpeak</th>\n",
       "      <th>slope</th>\n",
       "      <th>ca</th>\n",
       "      <th>thal</th>\n",
       "      <th>hd</th>\n",
       "    </tr>\n",
       "  </thead>\n",
       "  <tbody>\n",
       "    <tr>\n",
       "      <th>87</th>\n",
       "      <td>53.0</td>\n",
       "      <td>0.0</td>\n",
       "      <td>3.0</td>\n",
       "      <td>128.0</td>\n",
       "      <td>216.0</td>\n",
       "      <td>0.0</td>\n",
       "      <td>2.0</td>\n",
       "      <td>115.0</td>\n",
       "      <td>0.0</td>\n",
       "      <td>0.0</td>\n",
       "      <td>1.0</td>\n",
       "      <td>0.0</td>\n",
       "      <td>?</td>\n",
       "      <td>0</td>\n",
       "    </tr>\n",
       "    <tr>\n",
       "      <th>166</th>\n",
       "      <td>52.0</td>\n",
       "      <td>1.0</td>\n",
       "      <td>3.0</td>\n",
       "      <td>138.0</td>\n",
       "      <td>223.0</td>\n",
       "      <td>0.0</td>\n",
       "      <td>0.0</td>\n",
       "      <td>169.0</td>\n",
       "      <td>0.0</td>\n",
       "      <td>0.0</td>\n",
       "      <td>1.0</td>\n",
       "      <td>?</td>\n",
       "      <td>3.0</td>\n",
       "      <td>0</td>\n",
       "    </tr>\n",
       "    <tr>\n",
       "      <th>192</th>\n",
       "      <td>43.0</td>\n",
       "      <td>1.0</td>\n",
       "      <td>4.0</td>\n",
       "      <td>132.0</td>\n",
       "      <td>247.0</td>\n",
       "      <td>1.0</td>\n",
       "      <td>2.0</td>\n",
       "      <td>143.0</td>\n",
       "      <td>1.0</td>\n",
       "      <td>0.1</td>\n",
       "      <td>2.0</td>\n",
       "      <td>?</td>\n",
       "      <td>7.0</td>\n",
       "      <td>1</td>\n",
       "    </tr>\n",
       "    <tr>\n",
       "      <th>287</th>\n",
       "      <td>58.0</td>\n",
       "      <td>1.0</td>\n",
       "      <td>2.0</td>\n",
       "      <td>125.0</td>\n",
       "      <td>220.0</td>\n",
       "      <td>0.0</td>\n",
       "      <td>0.0</td>\n",
       "      <td>144.0</td>\n",
       "      <td>0.0</td>\n",
       "      <td>0.4</td>\n",
       "      <td>2.0</td>\n",
       "      <td>?</td>\n",
       "      <td>7.0</td>\n",
       "      <td>0</td>\n",
       "    </tr>\n",
       "    <tr>\n",
       "      <th>302</th>\n",
       "      <td>38.0</td>\n",
       "      <td>1.0</td>\n",
       "      <td>3.0</td>\n",
       "      <td>138.0</td>\n",
       "      <td>175.0</td>\n",
       "      <td>0.0</td>\n",
       "      <td>0.0</td>\n",
       "      <td>173.0</td>\n",
       "      <td>0.0</td>\n",
       "      <td>0.0</td>\n",
       "      <td>1.0</td>\n",
       "      <td>?</td>\n",
       "      <td>3.0</td>\n",
       "      <td>0</td>\n",
       "    </tr>\n",
       "  </tbody>\n",
       "</table>\n",
       "</div>"
      ],
      "text/plain": [
       "      age  sex   cp  restbps   chol  fbs  restecg  thalach  exang  oldpeak  \\\n",
       "87   53.0  0.0  3.0    128.0  216.0  0.0      2.0    115.0    0.0      0.0   \n",
       "166  52.0  1.0  3.0    138.0  223.0  0.0      0.0    169.0    0.0      0.0   \n",
       "192  43.0  1.0  4.0    132.0  247.0  1.0      2.0    143.0    1.0      0.1   \n",
       "287  58.0  1.0  2.0    125.0  220.0  0.0      0.0    144.0    0.0      0.4   \n",
       "302  38.0  1.0  3.0    138.0  175.0  0.0      0.0    173.0    0.0      0.0   \n",
       "\n",
       "     slope   ca thal  hd  \n",
       "87     1.0  0.0    ?   0  \n",
       "166    1.0    ?  3.0   0  \n",
       "192    2.0    ?  7.0   1  \n",
       "287    2.0    ?  7.0   0  \n",
       "302    1.0    ?  3.0   0  "
      ]
     },
     "metadata": {},
     "output_type": "display_data"
    },
    {
     "name": "stdout",
     "output_type": "stream",
     "text": [
      "number of rows with null values: 5\n"
     ]
    }
   ],
   "source": [
    "display(df.loc[(df['ca']=='?') | (df['thal']=='?')])\n",
    "print('number of rows with null values:',len(df.loc[(df['ca']=='?') | (df['thal']=='?')]))"
   ]
  },
  {
   "cell_type": "markdown",
   "id": "17d65f4a",
   "metadata": {},
   "source": [
    "**Explanation:** As only 6 rows contain null values compared to total 303 rows, these 6 rows can be removed ."
   ]
  },
  {
   "cell_type": "markdown",
   "id": "6deed569",
   "metadata": {},
   "source": [
    "### Remove null or non numeric values"
   ]
  },
  {
   "cell_type": "code",
   "execution_count": 12,
   "id": "44730ba1",
   "metadata": {},
   "outputs": [
    {
     "data": {
      "text/plain": [
       "298"
      ]
     },
     "execution_count": 12,
     "metadata": {},
     "output_type": "execute_result"
    }
   ],
   "source": [
    "df=df.loc[(df['ca']!='?') & (df['thal']!='?')]\n",
    "len(df) #303-6=297 rows remaining "
   ]
  },
  {
   "cell_type": "code",
   "execution_count": 13,
   "id": "6c12482d",
   "metadata": {},
   "outputs": [
    {
     "name": "stdout",
     "output_type": "stream",
     "text": [
      "['0.0' 1 '2.0' '1.0' '3.0']\n",
      "['6.0' 1 '7.0' '3.0']\n"
     ]
    }
   ],
   "source": [
    "#Recheck to confirm\n",
    "print(df['ca'].unique())\n",
    "print(df['thal'].unique())"
   ]
  },
  {
   "cell_type": "markdown",
   "id": "4a23b861",
   "metadata": {},
   "source": [
    "### Variable Separation\n",
    "X= feature Variable, y=Target Variable"
   ]
  },
  {
   "cell_type": "code",
   "execution_count": 14,
   "id": "003084f9",
   "metadata": {},
   "outputs": [
    {
     "data": {
      "text/html": [
       "<div>\n",
       "<style scoped>\n",
       "    .dataframe tbody tr th:only-of-type {\n",
       "        vertical-align: middle;\n",
       "    }\n",
       "\n",
       "    .dataframe tbody tr th {\n",
       "        vertical-align: top;\n",
       "    }\n",
       "\n",
       "    .dataframe thead th {\n",
       "        text-align: right;\n",
       "    }\n",
       "</style>\n",
       "<table border=\"1\" class=\"dataframe\">\n",
       "  <thead>\n",
       "    <tr style=\"text-align: right;\">\n",
       "      <th></th>\n",
       "      <th>age</th>\n",
       "      <th>sex</th>\n",
       "      <th>cp</th>\n",
       "      <th>restbps</th>\n",
       "      <th>chol</th>\n",
       "      <th>fbs</th>\n",
       "      <th>restecg</th>\n",
       "      <th>thalach</th>\n",
       "      <th>exang</th>\n",
       "      <th>oldpeak</th>\n",
       "      <th>slope</th>\n",
       "      <th>ca</th>\n",
       "      <th>thal</th>\n",
       "    </tr>\n",
       "  </thead>\n",
       "  <tbody>\n",
       "    <tr>\n",
       "      <th>0</th>\n",
       "      <td>63.0</td>\n",
       "      <td>1.0</td>\n",
       "      <td>1.0</td>\n",
       "      <td>145.0</td>\n",
       "      <td>233.0</td>\n",
       "      <td>1.0</td>\n",
       "      <td>2.0</td>\n",
       "      <td>150.0</td>\n",
       "      <td>0.0</td>\n",
       "      <td>2.3</td>\n",
       "      <td>3.0</td>\n",
       "      <td>0.0</td>\n",
       "      <td>6.0</td>\n",
       "    </tr>\n",
       "    <tr>\n",
       "      <th>1</th>\n",
       "      <td>1.0</td>\n",
       "      <td>1.0</td>\n",
       "      <td>1.0</td>\n",
       "      <td>1.0</td>\n",
       "      <td>1.0</td>\n",
       "      <td>1.0</td>\n",
       "      <td>1.0</td>\n",
       "      <td>1.0</td>\n",
       "      <td>1.0</td>\n",
       "      <td>1.0</td>\n",
       "      <td>1.0</td>\n",
       "      <td>1</td>\n",
       "      <td>1</td>\n",
       "    </tr>\n",
       "    <tr>\n",
       "      <th>2</th>\n",
       "      <td>67.0</td>\n",
       "      <td>1.0</td>\n",
       "      <td>4.0</td>\n",
       "      <td>120.0</td>\n",
       "      <td>229.0</td>\n",
       "      <td>0.0</td>\n",
       "      <td>2.0</td>\n",
       "      <td>129.0</td>\n",
       "      <td>1.0</td>\n",
       "      <td>2.6</td>\n",
       "      <td>2.0</td>\n",
       "      <td>2.0</td>\n",
       "      <td>7.0</td>\n",
       "    </tr>\n",
       "  </tbody>\n",
       "</table>\n",
       "</div>"
      ],
      "text/plain": [
       "    age  sex   cp  restbps   chol  fbs  restecg  thalach  exang  oldpeak  \\\n",
       "0  63.0  1.0  1.0    145.0  233.0  1.0      2.0    150.0    0.0      2.3   \n",
       "1   1.0  1.0  1.0      1.0    1.0  1.0      1.0      1.0    1.0      1.0   \n",
       "2  67.0  1.0  4.0    120.0  229.0  0.0      2.0    129.0    1.0      2.6   \n",
       "\n",
       "   slope   ca thal  \n",
       "0    3.0  0.0  6.0  \n",
       "1    1.0    1    1  \n",
       "2    2.0  2.0  7.0  "
      ]
     },
     "metadata": {},
     "output_type": "display_data"
    },
    {
     "name": "stdout",
     "output_type": "stream",
     "text": [
      "(298, 13)\n"
     ]
    }
   ],
   "source": [
    "X=df.drop('hd',axis=1)\n",
    "display(X.head(3))\n",
    "print(X.shape)"
   ]
  },
  {
   "cell_type": "code",
   "execution_count": 15,
   "id": "10dedea4",
   "metadata": {},
   "outputs": [
    {
     "name": "stdout",
     "output_type": "stream",
     "text": [
      "(298,)\n"
     ]
    }
   ],
   "source": [
    "y=df['hd']\n",
    "y.head()\n",
    "print(y.shape)"
   ]
  },
  {
   "cell_type": "markdown",
   "id": "d4c56460",
   "metadata": {},
   "source": [
    "### Encoding-One Hot"
   ]
  },
  {
   "cell_type": "markdown",
   "id": "33e91dfc",
   "metadata": {},
   "source": [
    "#### For Feature Variable"
   ]
  },
  {
   "cell_type": "code",
   "execution_count": 16,
   "id": "aa5c2b37",
   "metadata": {},
   "outputs": [
    {
     "data": {
      "text/plain": [
       "Index(['age', 'sex', 'cp', 'restbps', 'chol', 'fbs', 'restecg', 'thalach',\n",
       "       'exang', 'oldpeak', 'slope', 'ca', 'thal'],\n",
       "      dtype='object')"
      ]
     },
     "execution_count": 16,
     "metadata": {},
     "output_type": "execute_result"
    }
   ],
   "source": [
    "X.columns"
   ]
  },
  {
   "cell_type": "markdown",
   "id": "2f72c294",
   "metadata": {},
   "source": [
    "**Explanation:**\n",
    "- Total categorical features are 7: sex[1,0],  cp[1,2,3,4],  fbs[0,1],  restecg[1,2,3],  extang[0,1],  slope[1,2,3],  thal[3,6,9]\n",
    "- **cp,  restecg,  slope, thal** has more than 2 values,so these 4 need to be encoded and all the other category features contain only 2 values 0 and 1, so no encoding is needed."
   ]
  },
  {
   "cell_type": "code",
   "execution_count": 17,
   "id": "56489109",
   "metadata": {},
   "outputs": [],
   "source": [
    "# X['cp'].dtype\n",
    "# X['cp'].unique()"
   ]
  },
  {
   "cell_type": "code",
   "execution_count": 18,
   "id": "85fa5e29",
   "metadata": {},
   "outputs": [
    {
     "data": {
      "text/html": [
       "<div>\n",
       "<style scoped>\n",
       "    .dataframe tbody tr th:only-of-type {\n",
       "        vertical-align: middle;\n",
       "    }\n",
       "\n",
       "    .dataframe tbody tr th {\n",
       "        vertical-align: top;\n",
       "    }\n",
       "\n",
       "    .dataframe thead th {\n",
       "        text-align: right;\n",
       "    }\n",
       "</style>\n",
       "<table border=\"1\" class=\"dataframe\">\n",
       "  <thead>\n",
       "    <tr style=\"text-align: right;\">\n",
       "      <th></th>\n",
       "      <th>age</th>\n",
       "      <th>sex</th>\n",
       "      <th>restbps</th>\n",
       "      <th>chol</th>\n",
       "      <th>fbs</th>\n",
       "      <th>thalach</th>\n",
       "      <th>exang</th>\n",
       "      <th>oldpeak</th>\n",
       "      <th>ca</th>\n",
       "      <th>cp_2.0</th>\n",
       "      <th>cp_3.0</th>\n",
       "      <th>cp_4.0</th>\n",
       "      <th>restecg_1.0</th>\n",
       "      <th>restecg_2.0</th>\n",
       "      <th>slope_2.0</th>\n",
       "      <th>slope_3.0</th>\n",
       "      <th>thal_3.0</th>\n",
       "      <th>thal_6.0</th>\n",
       "      <th>thal_7.0</th>\n",
       "    </tr>\n",
       "  </thead>\n",
       "  <tbody>\n",
       "    <tr>\n",
       "      <th>0</th>\n",
       "      <td>63.0</td>\n",
       "      <td>1.0</td>\n",
       "      <td>145.0</td>\n",
       "      <td>233.0</td>\n",
       "      <td>1.0</td>\n",
       "      <td>150.0</td>\n",
       "      <td>0.0</td>\n",
       "      <td>2.3</td>\n",
       "      <td>0.0</td>\n",
       "      <td>0</td>\n",
       "      <td>0</td>\n",
       "      <td>0</td>\n",
       "      <td>0</td>\n",
       "      <td>1</td>\n",
       "      <td>0</td>\n",
       "      <td>1</td>\n",
       "      <td>0</td>\n",
       "      <td>1</td>\n",
       "      <td>0</td>\n",
       "    </tr>\n",
       "    <tr>\n",
       "      <th>1</th>\n",
       "      <td>1.0</td>\n",
       "      <td>1.0</td>\n",
       "      <td>1.0</td>\n",
       "      <td>1.0</td>\n",
       "      <td>1.0</td>\n",
       "      <td>1.0</td>\n",
       "      <td>1.0</td>\n",
       "      <td>1.0</td>\n",
       "      <td>1</td>\n",
       "      <td>0</td>\n",
       "      <td>0</td>\n",
       "      <td>0</td>\n",
       "      <td>1</td>\n",
       "      <td>0</td>\n",
       "      <td>0</td>\n",
       "      <td>0</td>\n",
       "      <td>0</td>\n",
       "      <td>0</td>\n",
       "      <td>0</td>\n",
       "    </tr>\n",
       "    <tr>\n",
       "      <th>2</th>\n",
       "      <td>67.0</td>\n",
       "      <td>1.0</td>\n",
       "      <td>120.0</td>\n",
       "      <td>229.0</td>\n",
       "      <td>0.0</td>\n",
       "      <td>129.0</td>\n",
       "      <td>1.0</td>\n",
       "      <td>2.6</td>\n",
       "      <td>2.0</td>\n",
       "      <td>0</td>\n",
       "      <td>0</td>\n",
       "      <td>1</td>\n",
       "      <td>0</td>\n",
       "      <td>1</td>\n",
       "      <td>1</td>\n",
       "      <td>0</td>\n",
       "      <td>0</td>\n",
       "      <td>0</td>\n",
       "      <td>1</td>\n",
       "    </tr>\n",
       "    <tr>\n",
       "      <th>3</th>\n",
       "      <td>37.0</td>\n",
       "      <td>1.0</td>\n",
       "      <td>130.0</td>\n",
       "      <td>250.0</td>\n",
       "      <td>0.0</td>\n",
       "      <td>187.0</td>\n",
       "      <td>0.0</td>\n",
       "      <td>3.5</td>\n",
       "      <td>0.0</td>\n",
       "      <td>0</td>\n",
       "      <td>1</td>\n",
       "      <td>0</td>\n",
       "      <td>0</td>\n",
       "      <td>0</td>\n",
       "      <td>0</td>\n",
       "      <td>1</td>\n",
       "      <td>1</td>\n",
       "      <td>0</td>\n",
       "      <td>0</td>\n",
       "    </tr>\n",
       "    <tr>\n",
       "      <th>4</th>\n",
       "      <td>41.0</td>\n",
       "      <td>0.0</td>\n",
       "      <td>130.0</td>\n",
       "      <td>204.0</td>\n",
       "      <td>0.0</td>\n",
       "      <td>172.0</td>\n",
       "      <td>0.0</td>\n",
       "      <td>1.4</td>\n",
       "      <td>0.0</td>\n",
       "      <td>1</td>\n",
       "      <td>0</td>\n",
       "      <td>0</td>\n",
       "      <td>0</td>\n",
       "      <td>1</td>\n",
       "      <td>0</td>\n",
       "      <td>0</td>\n",
       "      <td>1</td>\n",
       "      <td>0</td>\n",
       "      <td>0</td>\n",
       "    </tr>\n",
       "  </tbody>\n",
       "</table>\n",
       "</div>"
      ],
      "text/plain": [
       "    age  sex  restbps   chol  fbs  thalach  exang  oldpeak   ca  cp_2.0  \\\n",
       "0  63.0  1.0    145.0  233.0  1.0    150.0    0.0      2.3  0.0       0   \n",
       "1   1.0  1.0      1.0    1.0  1.0      1.0    1.0      1.0    1       0   \n",
       "2  67.0  1.0    120.0  229.0  0.0    129.0    1.0      2.6  2.0       0   \n",
       "3  37.0  1.0    130.0  250.0  0.0    187.0    0.0      3.5  0.0       0   \n",
       "4  41.0  0.0    130.0  204.0  0.0    172.0    0.0      1.4  0.0       1   \n",
       "\n",
       "   cp_3.0  cp_4.0  restecg_1.0  restecg_2.0  slope_2.0  slope_3.0  thal_3.0  \\\n",
       "0       0       0            0            1          0          1         0   \n",
       "1       0       0            1            0          0          0         0   \n",
       "2       0       1            0            1          1          0         0   \n",
       "3       1       0            0            0          0          1         1   \n",
       "4       0       0            0            1          0          0         1   \n",
       "\n",
       "   thal_6.0  thal_7.0  \n",
       "0         1         0  \n",
       "1         0         0  \n",
       "2         0         1  \n",
       "3         0         0  \n",
       "4         0         0  "
      ]
     },
     "metadata": {},
     "output_type": "display_data"
    },
    {
     "data": {
      "text/plain": [
       "(298, 19)"
      ]
     },
     "execution_count": 18,
     "metadata": {},
     "output_type": "execute_result"
    }
   ],
   "source": [
    "#pd.get_dummies(X,columns=['cp']).head()\n",
    "X=pd.get_dummies(X,columns=['cp','restecg','slope','thal'],drop_first=True) # here .head() caused trouble\n",
    "\n",
    "display(X.head())\n",
    "X.shape"
   ]
  },
  {
   "cell_type": "markdown",
   "id": "e0d5b106",
   "metadata": {},
   "source": [
    "### Train_test Split"
   ]
  },
  {
   "cell_type": "code",
   "execution_count": 19,
   "id": "eced8b09",
   "metadata": {},
   "outputs": [],
   "source": [
    "X_train, X_test, y_train, y_test = train_test_split(X, y, test_size= 0.2, random_state=42, stratify=y) \n",
    "#80% Train and 20% test data"
   ]
  },
  {
   "cell_type": "markdown",
   "id": "8f7f0a82",
   "metadata": {},
   "source": [
    "### KNN Algorithm"
   ]
  },
  {
   "cell_type": "code",
   "execution_count": 20,
   "id": "45157a7e",
   "metadata": {},
   "outputs": [],
   "source": [
    "# model = LogisticRegression()\n",
    "# model = RandomForestClassifier()\n",
    "\n",
    "model_KNN =KNeighborsClassifier()\n",
    "model_KNN = model_KNN.fit(X_train, y_train)"
   ]
  },
  {
   "cell_type": "code",
   "execution_count": 21,
   "id": "235a7389",
   "metadata": {},
   "outputs": [
    {
     "data": {
      "text/plain": [
       "0.7833333333333333"
      ]
     },
     "execution_count": 21,
     "metadata": {},
     "output_type": "execute_result"
    }
   ],
   "source": [
    "model_KNN.fit(X_train,y_train)\n",
    "\n",
    "model_KNN.score(X_test,y_test)"
   ]
  },
  {
   "cell_type": "markdown",
   "id": "a167340f",
   "metadata": {},
   "source": [
    "### Model Performance Evaluation"
   ]
  },
  {
   "cell_type": "code",
   "execution_count": 22,
   "id": "a40e64ed",
   "metadata": {},
   "outputs": [
    {
     "data": {
      "image/png": "[encoded data removed]",
      "text/plain": [
       "<Figure size 432x288 with 2 Axes>"
      ]
     },
     "metadata": {
      "needs_background": "light"
     },
     "output_type": "display_data"
    }
   ],
   "source": [
    "plot_confusion_matrix(model_KNN,X_test,y_test,display_labels=['NO hd','hd'],cmap='Blues')\n",
    "plt.show()"
   ]
  },
  {
   "cell_type": "code",
   "execution_count": 23,
   "id": "6e8ade07",
   "metadata": {},
   "outputs": [],
   "source": [
    "# #prediction\n",
    "# y_pred = model_DT.predict(X_test)\n",
    "# accuracy_score(y_test, y_pred)"
   ]
  },
  {
   "cell_type": "markdown",
   "id": "0c3ab4f9",
   "metadata": {},
   "source": [
    "#### Calculate TN,FN,FP,TP"
   ]
  },
  {
   "cell_type": "code",
   "execution_count": 24,
   "id": "f641e583",
   "metadata": {},
   "outputs": [
    {
     "name": "stdout",
     "output_type": "stream",
     "text": [
      "confusion_matrix: \n",
      " [[30  2]\n",
      " [11 17]]\n"
     ]
    }
   ],
   "source": [
    "y_pred=model_KNN.predict(X_test)\n",
    "\n",
    "confusion_matrix_ = confusion_matrix(y_test,y_pred)\n",
    "print('confusion_matrix: \\n', confusion_matrix_)"
   ]
  },
  {
   "cell_type": "code",
   "execution_count": 25,
   "id": "69d073eb",
   "metadata": {},
   "outputs": [
    {
     "name": "stdout",
     "output_type": "stream",
     "text": [
      "True Negatives =  30\n",
      "False Negatives =  11\n",
      "False Positives =  2\n",
      "True Positives =  17\n"
     ]
    }
   ],
   "source": [
    "TN = confusion_matrix_[0,0]\n",
    "print(\"True Negatives = \", TN)\n",
    "\n",
    "FN = confusion_matrix_[1,0]\n",
    "print(\"False Negatives = \", FN)\n",
    "\n",
    "FP = confusion_matrix_[0,1]\n",
    "print(\"False Positives = \", FP)\n",
    "\n",
    "TP = confusion_matrix_[1,1]\n",
    "print(\"True Positives = \", TP)"
   ]
  },
  {
   "cell_type": "markdown",
   "id": "6e05070e",
   "metadata": {},
   "source": [
    "#### Accuracy Score"
   ]
  },
  {
   "cell_type": "code",
   "execution_count": 26,
   "id": "5868a142",
   "metadata": {},
   "outputs": [
    {
     "name": "stdout",
     "output_type": "stream",
     "text": [
      "Calculated Manually __________________________\n",
      "Accuracy:  0.7833333333333333\n",
      "\n",
      "calculated using Scikit-Learn ________________________\n",
      "Accuracy:  0.7833333333333333\n"
     ]
    }
   ],
   "source": [
    "print(\"Calculated Manually __________________________\")\n",
    "# calculate the accuracy of the model from the confusion matrix\n",
    "accuracy = (TP+TN)/(TP+FP+FN+TN)\n",
    "print('Accuracy: ', accuracy)\n",
    "\n",
    "print(\"\\ncalculated using Scikit-Learn ________________________\")\n",
    "# calculate the accuracy of the model using the sklearn built-in function\n",
    "accuracy_ = accuracy_score(y_test,y_pred)\n",
    "\n",
    "print('Accuracy: ', accuracy_)"
   ]
  },
  {
   "cell_type": "markdown",
   "id": "76f4aa6f",
   "metadata": {},
   "source": [
    "#### Train and test accuracy"
   ]
  },
  {
   "cell_type": "code",
   "execution_count": 27,
   "id": "a49e65f3",
   "metadata": {},
   "outputs": [
    {
     "name": "stdout",
     "output_type": "stream",
     "text": [
      "\n",
      "train acc: 0.8361344537815126\n",
      "\n",
      "test acc: 0.7833333333333333\n"
     ]
    }
   ],
   "source": [
    "print('\\ntrain acc:',model_KNN.score(X_train,y_train))\n",
    "print('\\ntest acc:',model_KNN.score(X_test,y_test))"
   ]
  },
  {
   "cell_type": "markdown",
   "id": "a9ad9e93",
   "metadata": {},
   "source": [
    "**Explanation:** Overfitting"
   ]
  },
  {
   "cell_type": "markdown",
   "id": "380553d3",
   "metadata": {},
   "source": [
    "#### Precision,f1_score,Recall"
   ]
  },
  {
   "cell_type": "code",
   "execution_count": 28,
   "id": "67e38e91",
   "metadata": {},
   "outputs": [
    {
     "name": "stdout",
     "output_type": "stream",
     "text": [
      "Calculated maunally __________________________\n",
      "Precision =  0.89\n",
      "Recall =  0.61\n",
      "f1 score =  0.72\n",
      "\n",
      "calculated using Scikit-Learn ________________________\n",
      "Precision =  0.89\n",
      "Recall =  0.61\n",
      "f1 score =  0.72\n"
     ]
    }
   ],
   "source": [
    "print(\"Calculated maunally __________________________\")\n",
    "precision = np.round(TP/(TP+FP), 2)\n",
    "recall = np.round(TP/(TP+FN), 2)\n",
    "f1_score_ = np.round((2*precision*recall)/(precision+recall), 2)\n",
    "\n",
    "print(\"Precision = \", precision)\n",
    "print(\"Recall = \", recall)\n",
    "print(\"f1 score = \", f1_score_)\n",
    "\n",
    "print(\"\\ncalculated using Scikit-Learn ________________________\")\n",
    "precision_ = np.round(precision_score(y_test,y_pred), 2)\n",
    "recall_ = np.round(recall_score(y_test,y_pred), 2)\n",
    "f1_score__ = np.round(f1_score(y_test,y_pred), 2)\n",
    "\n",
    "print(\"Precision = \", precision_)\n",
    "print(\"Recall = \", recall_)\n",
    "print(\"f1 score = \", f1_score__)"
   ]
  },
  {
   "cell_type": "code",
   "execution_count": 29,
   "id": "3ea41580",
   "metadata": {},
   "outputs": [
    {
     "name": "stdout",
     "output_type": "stream",
     "text": [
      "True Positive Rate =  0.61\n",
      "False Positive Rate =  0.06\n"
     ]
    }
   ],
   "source": [
    "TPR = np.round(TP/(TP+FN), 2)\n",
    "FPR = np.round(FP/(FP+TN), 2)\n",
    "\n",
    "print(\"True Positive Rate = \", TPR)\n",
    "print(\"False Positive Rate = \", FPR)"
   ]
  },
  {
   "cell_type": "markdown",
   "id": "db6f5458",
   "metadata": {},
   "source": [
    "#### ROC and AUC"
   ]
  },
  {
   "cell_type": "markdown",
   "id": "4c62d5b0",
   "metadata": {},
   "source": [
    "#### Manually plot ROC, AUC"
   ]
  },
  {
   "cell_type": "code",
   "execution_count": 30,
   "id": "d80ac4b0",
   "metadata": {
    "scrolled": true
   },
   "outputs": [
    {
     "data": {
      "image/png": "[encoded data removed]",
      "text/plain": [
       "<Figure size 432x288 with 1 Axes>"
      ]
     },
     "metadata": {
      "needs_background": "light"
     },
     "output_type": "display_data"
    }
   ],
   "source": [
    "fpr, tpr, thr = roc_curve(y_test,y_pred)\n",
    "auc = np.round(roc_auc_score(y_test,y_pred), 2)\n",
    "\n",
    "#plt.figure(figsize=(10, 8))\n",
    "plt.plot(fpr, \n",
    "         tpr, \n",
    "         color='green', \n",
    "         lw=2, \n",
    "         label=\"Curve Area = \" +str(auc))\n",
    "\n",
    "plt.plot([0, 1], [0, 1], color='blue', lw=2, linestyle='--')\n",
    "plt.xlabel('False Positive Rate (FPR)')\n",
    "plt.ylabel('True Positive Rate (TPR)')\n",
    "plt.title('ROC curve')\n",
    "plt.legend(loc=\"lower right\")\n",
    "plt.show()"
   ]
  },
  {
   "cell_type": "markdown",
   "id": "542a68e3",
   "metadata": {},
   "source": [
    "#### Short Method"
   ]
  },
  {
   "cell_type": "code",
   "execution_count": 31,
   "id": "4639654f",
   "metadata": {},
   "outputs": [
    {
     "data": {
      "text/plain": [
       "[<matplotlib.lines.Line2D at 0x24939dcec10>]"
      ]
     },
     "execution_count": 31,
     "metadata": {},
     "output_type": "execute_result"
    },
    {
     "data": {
      "image/png": "[encoded data removed]",
      "text/plain": [
       "<Figure size 432x288 with 1 Axes>"
      ]
     },
     "metadata": {
      "needs_background": "light"
     },
     "output_type": "display_data"
    }
   ],
   "source": [
    "plot_roc_curve(model_KNN,X_test,y_test)\n",
    "plt.plot([0,1],[0,1])"
   ]
  },
  {
   "cell_type": "markdown",
   "id": "233fa940",
   "metadata": {},
   "source": [
    "### Report"
   ]
  },
  {
   "cell_type": "code",
   "execution_count": 32,
   "id": "3c22a8d0",
   "metadata": {},
   "outputs": [
    {
     "name": "stdout",
     "output_type": "stream",
     "text": [
      "Classification Report: \n",
      "               precision    recall  f1-score   support\n",
      "\n",
      "           0       0.73      0.94      0.82        32\n",
      "           1       0.89      0.61      0.72        28\n",
      "\n",
      "    accuracy                           0.78        60\n",
      "   macro avg       0.81      0.77      0.77        60\n",
      "weighted avg       0.81      0.78      0.78        60\n",
      "\n"
     ]
    }
   ],
   "source": [
    "class_report = classification_report(y_test,y_pred)\n",
    "print(\"Classification Report: \\n\", class_report)"
   ]
  },
  {
   "cell_type": "markdown",
   "id": "6ed9b410",
   "metadata": {},
   "source": [
    "- "
   ]
  },
  {
   "cell_type": "markdown",
   "id": "ed5a93db",
   "metadata": {},
   "source": [
    "### HyperParameter Tuning\n",
    "- Grid Search and Cross validation"
   ]
  },
  {
   "cell_type": "code",
   "execution_count": 33,
   "id": "cea1a80e",
   "metadata": {},
   "outputs": [
    {
     "data": {
      "text/plain": [
       "GridSearchCV(cv=5, estimator=KNeighborsClassifier(), n_jobs=-1,\n",
       "             param_grid={'algorithm': ['auto', 'ball_tree', 'kd_tree'],\n",
       "                         'n_neighbors': array([43, 35])},\n",
       "             scoring='accuracy')"
      ]
     },
     "execution_count": 33,
     "metadata": {},
     "output_type": "execute_result"
    }
   ],
   "source": [
    "n_neighbors=np.random.randint(1,50,2)\n",
    "\n",
    "parameters = {'n_neighbors': n_neighbors,  #parameter or grid\n",
    "              'algorithm': ['auto', 'ball_tree','kd_tree']}\n",
    "\n",
    "model_KNN_gscv = KNeighborsClassifier()\n",
    "\n",
    "gscv = GridSearchCV(estimator=model_KNN_gscv,\n",
    "                           param_grid=parameters,\n",
    "                           scoring=\"accuracy\",\n",
    "                           cv=5, # 5 fold corss validation\n",
    "                           n_jobs=-1)\n",
    "\n",
    "# fit the model with the best hyper-parameters\n",
    "gscv = gscv.fit(X_train, y_train)\n",
    "gscv"
   ]
  },
  {
   "cell_type": "markdown",
   "id": "2137476c",
   "metadata": {},
   "source": [
    "#### Best Hyperparameter"
   ]
  },
  {
   "cell_type": "code",
   "execution_count": 34,
   "id": "4d53f30e",
   "metadata": {},
   "outputs": [
    {
     "data": {
      "text/plain": [
       "{'algorithm': 'auto', 'n_neighbors': 43}"
      ]
     },
     "execution_count": 34,
     "metadata": {},
     "output_type": "execute_result"
    }
   ],
   "source": [
    "gscv.best_params_"
   ]
  },
  {
   "cell_type": "code",
   "execution_count": 35,
   "id": "36f50f88",
   "metadata": {},
   "outputs": [
    {
     "data": {
      "text/html": [
       "<div>\n",
       "<style scoped>\n",
       "    .dataframe tbody tr th:only-of-type {\n",
       "        vertical-align: middle;\n",
       "    }\n",
       "\n",
       "    .dataframe tbody tr th {\n",
       "        vertical-align: top;\n",
       "    }\n",
       "\n",
       "    .dataframe thead th {\n",
       "        text-align: right;\n",
       "    }\n",
       "</style>\n",
       "<table border=\"1\" class=\"dataframe\">\n",
       "  <thead>\n",
       "    <tr style=\"text-align: right;\">\n",
       "      <th></th>\n",
       "      <th>mean_fit_time</th>\n",
       "      <th>std_fit_time</th>\n",
       "      <th>mean_score_time</th>\n",
       "      <th>std_score_time</th>\n",
       "      <th>param_algorithm</th>\n",
       "      <th>param_n_neighbors</th>\n",
       "      <th>params</th>\n",
       "      <th>split0_test_score</th>\n",
       "      <th>split1_test_score</th>\n",
       "      <th>split2_test_score</th>\n",
       "      <th>split3_test_score</th>\n",
       "      <th>split4_test_score</th>\n",
       "      <th>mean_test_score</th>\n",
       "      <th>std_test_score</th>\n",
       "      <th>rank_test_score</th>\n",
       "    </tr>\n",
       "  </thead>\n",
       "  <tbody>\n",
       "    <tr>\n",
       "      <th>0</th>\n",
       "      <td>0.006781</td>\n",
       "      <td>0.003478</td>\n",
       "      <td>0.061499</td>\n",
       "      <td>0.026538</td>\n",
       "      <td>auto</td>\n",
       "      <td>43</td>\n",
       "      <td>{'algorithm': 'auto', 'n_neighbors': 43}</td>\n",
       "      <td>0.791667</td>\n",
       "      <td>0.791667</td>\n",
       "      <td>0.895833</td>\n",
       "      <td>0.808511</td>\n",
       "      <td>0.808511</td>\n",
       "      <td>0.819238</td>\n",
       "      <td>0.039032</td>\n",
       "      <td>1</td>\n",
       "    </tr>\n",
       "    <tr>\n",
       "      <th>1</th>\n",
       "      <td>0.004085</td>\n",
       "      <td>0.003341</td>\n",
       "      <td>0.010208</td>\n",
       "      <td>0.009853</td>\n",
       "      <td>auto</td>\n",
       "      <td>35</td>\n",
       "      <td>{'algorithm': 'auto', 'n_neighbors': 35}</td>\n",
       "      <td>0.791667</td>\n",
       "      <td>0.791667</td>\n",
       "      <td>0.895833</td>\n",
       "      <td>0.808511</td>\n",
       "      <td>0.808511</td>\n",
       "      <td>0.819238</td>\n",
       "      <td>0.039032</td>\n",
       "      <td>1</td>\n",
       "    </tr>\n",
       "    <tr>\n",
       "      <th>2</th>\n",
       "      <td>0.009373</td>\n",
       "      <td>0.007653</td>\n",
       "      <td>0.006249</td>\n",
       "      <td>0.007653</td>\n",
       "      <td>ball_tree</td>\n",
       "      <td>43</td>\n",
       "      <td>{'algorithm': 'ball_tree', 'n_neighbors': 43}</td>\n",
       "      <td>0.791667</td>\n",
       "      <td>0.791667</td>\n",
       "      <td>0.895833</td>\n",
       "      <td>0.808511</td>\n",
       "      <td>0.808511</td>\n",
       "      <td>0.819238</td>\n",
       "      <td>0.039032</td>\n",
       "      <td>1</td>\n",
       "    </tr>\n",
       "    <tr>\n",
       "      <th>3</th>\n",
       "      <td>0.009373</td>\n",
       "      <td>0.007653</td>\n",
       "      <td>0.009373</td>\n",
       "      <td>0.007653</td>\n",
       "      <td>ball_tree</td>\n",
       "      <td>35</td>\n",
       "      <td>{'algorithm': 'ball_tree', 'n_neighbors': 35}</td>\n",
       "      <td>0.791667</td>\n",
       "      <td>0.791667</td>\n",
       "      <td>0.895833</td>\n",
       "      <td>0.808511</td>\n",
       "      <td>0.808511</td>\n",
       "      <td>0.819238</td>\n",
       "      <td>0.039032</td>\n",
       "      <td>1</td>\n",
       "    </tr>\n",
       "    <tr>\n",
       "      <th>4</th>\n",
       "      <td>0.009373</td>\n",
       "      <td>0.007653</td>\n",
       "      <td>0.009373</td>\n",
       "      <td>0.007653</td>\n",
       "      <td>kd_tree</td>\n",
       "      <td>43</td>\n",
       "      <td>{'algorithm': 'kd_tree', 'n_neighbors': 43}</td>\n",
       "      <td>0.791667</td>\n",
       "      <td>0.791667</td>\n",
       "      <td>0.895833</td>\n",
       "      <td>0.808511</td>\n",
       "      <td>0.808511</td>\n",
       "      <td>0.819238</td>\n",
       "      <td>0.039032</td>\n",
       "      <td>1</td>\n",
       "    </tr>\n",
       "  </tbody>\n",
       "</table>\n",
       "</div>"
      ],
      "text/plain": [
       "   mean_fit_time  std_fit_time  mean_score_time  std_score_time  \\\n",
       "0       0.006781      0.003478         0.061499        0.026538   \n",
       "1       0.004085      0.003341         0.010208        0.009853   \n",
       "2       0.009373      0.007653         0.006249        0.007653   \n",
       "3       0.009373      0.007653         0.009373        0.007653   \n",
       "4       0.009373      0.007653         0.009373        0.007653   \n",
       "\n",
       "  param_algorithm param_n_neighbors  \\\n",
       "0            auto                43   \n",
       "1            auto                35   \n",
       "2       ball_tree                43   \n",
       "3       ball_tree                35   \n",
       "4         kd_tree                43   \n",
       "\n",
       "                                          params  split0_test_score  \\\n",
       "0       {'algorithm': 'auto', 'n_neighbors': 43}           0.791667   \n",
       "1       {'algorithm': 'auto', 'n_neighbors': 35}           0.791667   \n",
       "2  {'algorithm': 'ball_tree', 'n_neighbors': 43}           0.791667   \n",
       "3  {'algorithm': 'ball_tree', 'n_neighbors': 35}           0.791667   \n",
       "4    {'algorithm': 'kd_tree', 'n_neighbors': 43}           0.791667   \n",
       "\n",
       "   split1_test_score  split2_test_score  split3_test_score  split4_test_score  \\\n",
       "0           0.791667           0.895833           0.808511           0.808511   \n",
       "1           0.791667           0.895833           0.808511           0.808511   \n",
       "2           0.791667           0.895833           0.808511           0.808511   \n",
       "3           0.791667           0.895833           0.808511           0.808511   \n",
       "4           0.791667           0.895833           0.808511           0.808511   \n",
       "\n",
       "   mean_test_score  std_test_score  rank_test_score  \n",
       "0         0.819238        0.039032                1  \n",
       "1         0.819238        0.039032                1  \n",
       "2         0.819238        0.039032                1  \n",
       "3         0.819238        0.039032                1  \n",
       "4         0.819238        0.039032                1  "
      ]
     },
     "execution_count": 35,
     "metadata": {},
     "output_type": "execute_result"
    }
   ],
   "source": [
    "# gscv.cv_results_\n",
    "\n",
    "#Convert to dataframe and sort according to  rank test score\n",
    "gscv.cv_results_ =pd.DataFrame(gscv.cv_results_)\n",
    "gscv.cv_results_.sort_values('rank_test_score').head() #df.short_values('column')"
   ]
  },
  {
   "cell_type": "markdown",
   "id": "cbe10b28",
   "metadata": {},
   "source": [
    "### Model Performance Evaluation after Tuning"
   ]
  },
  {
   "cell_type": "markdown",
   "id": "baaf9b3a",
   "metadata": {},
   "source": [
    "#### Confusion Matrix"
   ]
  },
  {
   "cell_type": "code",
   "execution_count": 36,
   "id": "093a4a7b",
   "metadata": {},
   "outputs": [
    {
     "data": {
      "image/png": "[encoded data removed]",
      "text/plain": [
       "<Figure size 432x288 with 2 Axes>"
      ]
     },
     "metadata": {
      "needs_background": "light"
     },
     "output_type": "display_data"
    }
   ],
   "source": [
    "plot_confusion_matrix(gscv,X_test,y_test,display_labels=['NO hd','hd'],cmap='Greys')\n",
    "plt.show()"
   ]
  },
  {
   "cell_type": "code",
   "execution_count": 37,
   "id": "5d74edbc",
   "metadata": {},
   "outputs": [
    {
     "name": "stdout",
     "output_type": "stream",
     "text": [
      "confusion_matrix_gs: \n",
      " [[32  0]\n",
      " [11 17]]\n"
     ]
    }
   ],
   "source": [
    "y_pred_gs =gscv.predict(X_test) \n",
    "\n",
    "confusion_matrix_gs = confusion_matrix(y_test,y_pred_gs)\n",
    "\n",
    "print('confusion_matrix_gs: \\n', confusion_matrix_gs)"
   ]
  },
  {
   "cell_type": "code",
   "execution_count": 38,
   "id": "e34ba61b",
   "metadata": {},
   "outputs": [
    {
     "name": "stdout",
     "output_type": "stream",
     "text": [
      "True Negatives =  32\n",
      "False Negatives =  11\n",
      "False Positives =  0\n",
      "True Positives =  17\n"
     ]
    }
   ],
   "source": [
    "TN = confusion_matrix_gs[0,0]\n",
    "print(\"True Negatives = \", TN)\n",
    "\n",
    "FN = confusion_matrix_gs[1,0]\n",
    "print(\"False Negatives = \", FN)\n",
    "\n",
    "FP = confusion_matrix_gs[0,1]\n",
    "print(\"False Positives = \", FP)\n",
    "\n",
    "TP = confusion_matrix_gs[1,1]\n",
    "print(\"True Positives = \", TP)"
   ]
  },
  {
   "cell_type": "code",
   "execution_count": 39,
   "id": "f83a41cc",
   "metadata": {},
   "outputs": [
    {
     "name": "stdout",
     "output_type": "stream",
     "text": [
      "True Positive Rate =  0.61\n",
      "False Positive Rate =  0.0\n"
     ]
    }
   ],
   "source": [
    "TPR = np.round(TP/(TP+FN), 2)\n",
    "FPR = np.round(FP/(FP+TN), 2)\n",
    "\n",
    "print(\"True Positive Rate = \", TPR)\n",
    "print(\"False Positive Rate = \", FPR)"
   ]
  },
  {
   "cell_type": "markdown",
   "id": "511d7e9e",
   "metadata": {},
   "source": [
    "#### ROC AUC"
   ]
  },
  {
   "cell_type": "code",
   "execution_count": 40,
   "id": "93456ffe",
   "metadata": {},
   "outputs": [
    {
     "data": {
      "text/plain": [
       "[<matplotlib.lines.Line2D at 0x24939ef9b20>]"
      ]
     },
     "execution_count": 40,
     "metadata": {},
     "output_type": "execute_result"
    },
    {
     "data": {
      "image/png": "[encoded data removed]",
      "text/plain": [
       "<Figure size 432x288 with 1 Axes>"
      ]
     },
     "metadata": {
      "needs_background": "light"
     },
     "output_type": "display_data"
    }
   ],
   "source": [
    "plot_roc_curve(gscv,X_test,y_test)\n",
    "plt.plot([0,1],[0,1])"
   ]
  },
  {
   "cell_type": "markdown",
   "id": "8803a25e",
   "metadata": {},
   "source": [
    "#### Report"
   ]
  },
  {
   "cell_type": "code",
   "execution_count": 41,
   "id": "ef85a1a8",
   "metadata": {},
   "outputs": [
    {
     "name": "stdout",
     "output_type": "stream",
     "text": [
      "              precision    recall  f1-score   support\n",
      "\n",
      "           0       0.74      1.00      0.85        32\n",
      "           1       1.00      0.61      0.76        28\n",
      "\n",
      "    accuracy                           0.82        60\n",
      "   macro avg       0.87      0.80      0.80        60\n",
      "weighted avg       0.86      0.82      0.81        60\n",
      "\n"
     ]
    }
   ],
   "source": [
    "print(classification_report(y_test, y_pred_gs))"
   ]
  },
  {
   "cell_type": "code",
   "execution_count": 42,
   "id": "09cb730a",
   "metadata": {},
   "outputs": [
    {
     "name": "stdout",
     "output_type": "stream",
     "text": [
      "Accuracy:  0.7833333333333333\n",
      "\n",
      "Accuracy after tuning:  0.8166666666666667\n"
     ]
    }
   ],
   "source": [
    "print('Accuracy: ', accuracy_score(y_test, y_pred))\n",
    "print('\\nAccuracy after tuning: ', accuracy_score(y_test, y_pred_gs))"
   ]
  },
  {
   "cell_type": "markdown",
   "id": "4e010e21",
   "metadata": {},
   "source": [
    "#### Train and test accuracy"
   ]
  },
  {
   "cell_type": "code",
   "execution_count": 43,
   "id": "c785f116",
   "metadata": {},
   "outputs": [
    {
     "name": "stdout",
     "output_type": "stream",
     "text": [
      "\n",
      "train acc: 0.819327731092437\n",
      "\n",
      "test acc: 0.8166666666666667\n"
     ]
    }
   ],
   "source": [
    "print('\\ntrain acc:',gscv.score(X_train,y_train))\n",
    "print('\\ntest acc:',gscv.score(X_test,y_test))"
   ]
  },
  {
   "cell_type": "markdown",
   "id": "a74a5a53",
   "metadata": {},
   "source": [
    "**Explanation:** no overfitting and under fitting "
   ]
  },
  {
   "cell_type": "markdown",
   "id": "13797cd1",
   "metadata": {},
   "source": [
    "**finish line"
   ]
  },
  {
   "cell_type": "code",
   "execution_count": null,
   "id": "3cfab402",
   "metadata": {},
   "outputs": [],
   "source": []
  }
 ],
 "metadata": {
  "kernelspec": {
   "display_name": "Python 3",
   "language": "python",
   "name": "python3"
  },
  "language_info": {
   "codemirror_mode": {
    "name": "ipython",
    "version": 3
   },
   "file_extension": ".py",
   "mimetype": "text/x-python",
   "name": "python",
   "nbconvert_exporter": "python",
   "pygments_lexer": "ipython3",
   "version": "3.8.8"
  }
 },
 "nbformat": 4,
 "nbformat_minor": 5
}
